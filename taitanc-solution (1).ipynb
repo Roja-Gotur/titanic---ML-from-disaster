{
 "cells": [
  {
   "cell_type": "markdown",
   "id": "collected-backup",
   "metadata": {
    "id": "j1xVZ2JddoRW",
    "papermill": {
     "duration": 0.041056,
     "end_time": "2021-04-10T21:43:03.804935",
     "exception": false,
     "start_time": "2021-04-10T21:43:03.763879",
     "status": "completed"
    },
    "tags": []
   },
   "source": [
    "# Introduction :\n",
    "\n",
    "*NOTE : This notebook have some codes from [Titanic Data Science Solutions](https://www.kaggle.com/startupsci/titanic-data-science-solutions)*\n",
    "\n",
    "## Our straegy :\n",
    "\n",
    "1. Read the data and see what is missing\n",
    "2. Analyzing the data by spreate this training dataset into two groups \n",
    "3. Try to clean our data and convert the categorical data to numeric data by filling the missing data and create new features using feature engineering \n",
    "4. Use several ML algorithms to predict the test data\n",
    "\n",
    "## Our problem :\n",
    "\n",
    "We have two dataset (training/testing) and we want to use the traning data to create the best ML model that can predict the correct labels for the testing data .\n",
    "\n",
    "## Goals :\n",
    "\n",
    "1. Analyzing the data \n",
    "2. Create new features to develop the model's preformance \n",
    "3. completing the missing data\n",
    "4. create the best ML model by using the best algorthim"
   ]
  },
  {
   "cell_type": "markdown",
   "id": "comparative-integrity",
   "metadata": {
    "id": "6gIcopKbYFvE",
    "papermill": {
     "duration": 0.035962,
     "end_time": "2021-04-10T21:43:03.877233",
     "exception": false,
     "start_time": "2021-04-10T21:43:03.841271",
     "status": "completed"
    },
    "tags": []
   },
   "source": [
    "\n",
    "# Data analysis :\n",
    "\n",
    "In the few code cells below we will discover the following :\n",
    "\n",
    "1. In age there is about 120  missing values in training and about 100 missing values in testing\n",
    "2. In Embarked there is 3 missing values\n",
    "3. In Cabin there is more than 600 missing values in training and about 300 missing data in testing\n",
    "\n",
    "\n",
    "\n",
    "> Don't think a lot about what we are going to do with these missing data especially in cabin .\n",
    "\n",
    "we will also see which data is more effective than other data .\n",
    "\n"
   ]
  },
  {
   "cell_type": "code",
   "execution_count": 1,
   "id": "breeding-shuttle",
   "metadata": {
    "execution": {
     "iopub.execute_input": "2021-04-10T21:43:03.956225Z",
     "iopub.status.busy": "2021-04-10T21:43:03.954394Z",
     "iopub.status.idle": "2021-04-10T21:43:05.053760Z",
     "shell.execute_reply": "2021-04-10T21:43:05.052929Z"
    },
    "id": "BB0yA6BW4p8B",
    "papermill": {
     "duration": 1.140507,
     "end_time": "2021-04-10T21:43:05.053936",
     "exception": false,
     "start_time": "2021-04-10T21:43:03.913429",
     "status": "completed"
    },
    "tags": []
   },
   "outputs": [],
   "source": [
    "import numpy as np # Data processing\n",
    "import pandas as pd # Data analysis\n",
    "import seaborn as sns # Data visualization\n",
    "import matplotlib.pyplot as plt # Data visualization\n",
    "%matplotlib inline"
   ]
  },
  {
   "cell_type": "code",
   "execution_count": 2,
   "id": "close-target",
   "metadata": {
    "execution": {
     "iopub.execute_input": "2021-04-10T21:43:05.132780Z",
     "iopub.status.busy": "2021-04-10T21:43:05.131941Z",
     "iopub.status.idle": "2021-04-10T21:43:05.165863Z",
     "shell.execute_reply": "2021-04-10T21:43:05.165237Z"
    },
    "id": "pMTz1PyR43oh",
    "papermill": {
     "duration": 0.075435,
     "end_time": "2021-04-10T21:43:05.166011",
     "exception": false,
     "start_time": "2021-04-10T21:43:05.090576",
     "status": "completed"
    },
    "tags": []
   },
   "outputs": [],
   "source": [
    "df_train = pd.read_csv(\"../input/titanic/train.csv\") # Open data files\n",
    "df_test = pd.read_csv(\"../input/titanic/test.csv\") \n",
    "connect = [ df_train , df_test ]\n",
    "plt.style.use('fivethirtyeight') # Change the style of the plots"
   ]
  },
  {
   "cell_type": "markdown",
   "id": "tough-dylan",
   "metadata": {
    "id": "67Sc0MwiX-XH",
    "papermill": {
     "duration": 0.036961,
     "end_time": "2021-04-10T21:43:05.239529",
     "exception": false,
     "start_time": "2021-04-10T21:43:05.202568",
     "status": "completed"
    },
    "tags": []
   },
   "source": [
    "Print the first 10 lines"
   ]
  },
  {
   "cell_type": "code",
   "execution_count": 3,
   "id": "charming-jumping",
   "metadata": {
    "execution": {
     "iopub.execute_input": "2021-04-10T21:43:05.328798Z",
     "iopub.status.busy": "2021-04-10T21:43:05.327774Z",
     "iopub.status.idle": "2021-04-10T21:43:05.355133Z",
     "shell.execute_reply": "2021-04-10T21:43:05.354471Z"
    },
    "id": "5SCRQHOL54_g",
    "outputId": "1835f5ad-8830-4415-e7ad-e336900628e7",
    "papermill": {
     "duration": 0.077281,
     "end_time": "2021-04-10T21:43:05.355273",
     "exception": false,
     "start_time": "2021-04-10T21:43:05.277992",
     "status": "completed"
    },
    "tags": []
   },
   "outputs": [
    {
     "data": {
      "text/html": [
       "<div>\n",
       "<style scoped>\n",
       "    .dataframe tbody tr th:only-of-type {\n",
       "        vertical-align: middle;\n",
       "    }\n",
       "\n",
       "    .dataframe tbody tr th {\n",
       "        vertical-align: top;\n",
       "    }\n",
       "\n",
       "    .dataframe thead th {\n",
       "        text-align: right;\n",
       "    }\n",
       "</style>\n",
       "<table border=\"1\" class=\"dataframe\">\n",
       "  <thead>\n",
       "    <tr style=\"text-align: right;\">\n",
       "      <th></th>\n",
       "      <th>PassengerId</th>\n",
       "      <th>Survived</th>\n",
       "      <th>Pclass</th>\n",
       "      <th>Name</th>\n",
       "      <th>Sex</th>\n",
       "      <th>Age</th>\n",
       "      <th>SibSp</th>\n",
       "      <th>Parch</th>\n",
       "      <th>Ticket</th>\n",
       "      <th>Fare</th>\n",
       "      <th>Cabin</th>\n",
       "      <th>Embarked</th>\n",
       "    </tr>\n",
       "  </thead>\n",
       "  <tbody>\n",
       "    <tr>\n",
       "      <th>0</th>\n",
       "      <td>1</td>\n",
       "      <td>0</td>\n",
       "      <td>3</td>\n",
       "      <td>Braund, Mr. Owen Harris</td>\n",
       "      <td>male</td>\n",
       "      <td>22.0</td>\n",
       "      <td>1</td>\n",
       "      <td>0</td>\n",
       "      <td>A/5 21171</td>\n",
       "      <td>7.2500</td>\n",
       "      <td>NaN</td>\n",
       "      <td>S</td>\n",
       "    </tr>\n",
       "    <tr>\n",
       "      <th>1</th>\n",
       "      <td>2</td>\n",
       "      <td>1</td>\n",
       "      <td>1</td>\n",
       "      <td>Cumings, Mrs. John Bradley (Florence Briggs Th...</td>\n",
       "      <td>female</td>\n",
       "      <td>38.0</td>\n",
       "      <td>1</td>\n",
       "      <td>0</td>\n",
       "      <td>PC 17599</td>\n",
       "      <td>71.2833</td>\n",
       "      <td>C85</td>\n",
       "      <td>C</td>\n",
       "    </tr>\n",
       "    <tr>\n",
       "      <th>2</th>\n",
       "      <td>3</td>\n",
       "      <td>1</td>\n",
       "      <td>3</td>\n",
       "      <td>Heikkinen, Miss. Laina</td>\n",
       "      <td>female</td>\n",
       "      <td>26.0</td>\n",
       "      <td>0</td>\n",
       "      <td>0</td>\n",
       "      <td>STON/O2. 3101282</td>\n",
       "      <td>7.9250</td>\n",
       "      <td>NaN</td>\n",
       "      <td>S</td>\n",
       "    </tr>\n",
       "    <tr>\n",
       "      <th>3</th>\n",
       "      <td>4</td>\n",
       "      <td>1</td>\n",
       "      <td>1</td>\n",
       "      <td>Futrelle, Mrs. Jacques Heath (Lily May Peel)</td>\n",
       "      <td>female</td>\n",
       "      <td>35.0</td>\n",
       "      <td>1</td>\n",
       "      <td>0</td>\n",
       "      <td>113803</td>\n",
       "      <td>53.1000</td>\n",
       "      <td>C123</td>\n",
       "      <td>S</td>\n",
       "    </tr>\n",
       "    <tr>\n",
       "      <th>4</th>\n",
       "      <td>5</td>\n",
       "      <td>0</td>\n",
       "      <td>3</td>\n",
       "      <td>Allen, Mr. William Henry</td>\n",
       "      <td>male</td>\n",
       "      <td>35.0</td>\n",
       "      <td>0</td>\n",
       "      <td>0</td>\n",
       "      <td>373450</td>\n",
       "      <td>8.0500</td>\n",
       "      <td>NaN</td>\n",
       "      <td>S</td>\n",
       "    </tr>\n",
       "    <tr>\n",
       "      <th>5</th>\n",
       "      <td>6</td>\n",
       "      <td>0</td>\n",
       "      <td>3</td>\n",
       "      <td>Moran, Mr. James</td>\n",
       "      <td>male</td>\n",
       "      <td>NaN</td>\n",
       "      <td>0</td>\n",
       "      <td>0</td>\n",
       "      <td>330877</td>\n",
       "      <td>8.4583</td>\n",
       "      <td>NaN</td>\n",
       "      <td>Q</td>\n",
       "    </tr>\n",
       "    <tr>\n",
       "      <th>6</th>\n",
       "      <td>7</td>\n",
       "      <td>0</td>\n",
       "      <td>1</td>\n",
       "      <td>McCarthy, Mr. Timothy J</td>\n",
       "      <td>male</td>\n",
       "      <td>54.0</td>\n",
       "      <td>0</td>\n",
       "      <td>0</td>\n",
       "      <td>17463</td>\n",
       "      <td>51.8625</td>\n",
       "      <td>E46</td>\n",
       "      <td>S</td>\n",
       "    </tr>\n",
       "    <tr>\n",
       "      <th>7</th>\n",
       "      <td>8</td>\n",
       "      <td>0</td>\n",
       "      <td>3</td>\n",
       "      <td>Palsson, Master. Gosta Leonard</td>\n",
       "      <td>male</td>\n",
       "      <td>2.0</td>\n",
       "      <td>3</td>\n",
       "      <td>1</td>\n",
       "      <td>349909</td>\n",
       "      <td>21.0750</td>\n",
       "      <td>NaN</td>\n",
       "      <td>S</td>\n",
       "    </tr>\n",
       "    <tr>\n",
       "      <th>8</th>\n",
       "      <td>9</td>\n",
       "      <td>1</td>\n",
       "      <td>3</td>\n",
       "      <td>Johnson, Mrs. Oscar W (Elisabeth Vilhelmina Berg)</td>\n",
       "      <td>female</td>\n",
       "      <td>27.0</td>\n",
       "      <td>0</td>\n",
       "      <td>2</td>\n",
       "      <td>347742</td>\n",
       "      <td>11.1333</td>\n",
       "      <td>NaN</td>\n",
       "      <td>S</td>\n",
       "    </tr>\n",
       "    <tr>\n",
       "      <th>9</th>\n",
       "      <td>10</td>\n",
       "      <td>1</td>\n",
       "      <td>2</td>\n",
       "      <td>Nasser, Mrs. Nicholas (Adele Achem)</td>\n",
       "      <td>female</td>\n",
       "      <td>14.0</td>\n",
       "      <td>1</td>\n",
       "      <td>0</td>\n",
       "      <td>237736</td>\n",
       "      <td>30.0708</td>\n",
       "      <td>NaN</td>\n",
       "      <td>C</td>\n",
       "    </tr>\n",
       "  </tbody>\n",
       "</table>\n",
       "</div>"
      ],
      "text/plain": [
       "   PassengerId  Survived  Pclass  \\\n",
       "0            1         0       3   \n",
       "1            2         1       1   \n",
       "2            3         1       3   \n",
       "3            4         1       1   \n",
       "4            5         0       3   \n",
       "5            6         0       3   \n",
       "6            7         0       1   \n",
       "7            8         0       3   \n",
       "8            9         1       3   \n",
       "9           10         1       2   \n",
       "\n",
       "                                                Name     Sex   Age  SibSp  \\\n",
       "0                            Braund, Mr. Owen Harris    male  22.0      1   \n",
       "1  Cumings, Mrs. John Bradley (Florence Briggs Th...  female  38.0      1   \n",
       "2                             Heikkinen, Miss. Laina  female  26.0      0   \n",
       "3       Futrelle, Mrs. Jacques Heath (Lily May Peel)  female  35.0      1   \n",
       "4                           Allen, Mr. William Henry    male  35.0      0   \n",
       "5                                   Moran, Mr. James    male   NaN      0   \n",
       "6                            McCarthy, Mr. Timothy J    male  54.0      0   \n",
       "7                     Palsson, Master. Gosta Leonard    male   2.0      3   \n",
       "8  Johnson, Mrs. Oscar W (Elisabeth Vilhelmina Berg)  female  27.0      0   \n",
       "9                Nasser, Mrs. Nicholas (Adele Achem)  female  14.0      1   \n",
       "\n",
       "   Parch            Ticket     Fare Cabin Embarked  \n",
       "0      0         A/5 21171   7.2500   NaN        S  \n",
       "1      0          PC 17599  71.2833   C85        C  \n",
       "2      0  STON/O2. 3101282   7.9250   NaN        S  \n",
       "3      0            113803  53.1000  C123        S  \n",
       "4      0            373450   8.0500   NaN        S  \n",
       "5      0            330877   8.4583   NaN        Q  \n",
       "6      0             17463  51.8625   E46        S  \n",
       "7      1            349909  21.0750   NaN        S  \n",
       "8      2            347742  11.1333   NaN        S  \n",
       "9      0            237736  30.0708   NaN        C  "
      ]
     },
     "execution_count": 3,
     "metadata": {},
     "output_type": "execute_result"
    }
   ],
   "source": [
    "df_train.head(10)"
   ]
  },
  {
   "cell_type": "code",
   "execution_count": 4,
   "id": "sealed-reliance",
   "metadata": {
    "execution": {
     "iopub.execute_input": "2021-04-10T21:43:05.433815Z",
     "iopub.status.busy": "2021-04-10T21:43:05.433146Z",
     "iopub.status.idle": "2021-04-10T21:43:05.463218Z",
     "shell.execute_reply": "2021-04-10T21:43:05.462569Z"
    },
    "id": "Zw7g-X5O5Hyf",
    "outputId": "3b420b3d-c0f7-40bb-d4a9-6cd0d6292357",
    "papermill": {
     "duration": 0.070328,
     "end_time": "2021-04-10T21:43:05.463363",
     "exception": false,
     "start_time": "2021-04-10T21:43:05.393035",
     "status": "completed"
    },
    "tags": []
   },
   "outputs": [
    {
     "name": "stdout",
     "output_type": "stream",
     "text": [
      "<class 'pandas.core.frame.DataFrame'>\n",
      "RangeIndex: 891 entries, 0 to 890\n",
      "Data columns (total 12 columns):\n",
      " #   Column       Non-Null Count  Dtype  \n",
      "---  ------       --------------  -----  \n",
      " 0   PassengerId  891 non-null    int64  \n",
      " 1   Survived     891 non-null    int64  \n",
      " 2   Pclass       891 non-null    int64  \n",
      " 3   Name         891 non-null    object \n",
      " 4   Sex          891 non-null    object \n",
      " 5   Age          714 non-null    float64\n",
      " 6   SibSp        891 non-null    int64  \n",
      " 7   Parch        891 non-null    int64  \n",
      " 8   Ticket       891 non-null    object \n",
      " 9   Fare         891 non-null    float64\n",
      " 10  Cabin        204 non-null    object \n",
      " 11  Embarked     889 non-null    object \n",
      "dtypes: float64(2), int64(5), object(5)\n",
      "memory usage: 83.7+ KB\n",
      "---------------\n",
      "<class 'pandas.core.frame.DataFrame'>\n",
      "RangeIndex: 418 entries, 0 to 417\n",
      "Data columns (total 11 columns):\n",
      " #   Column       Non-Null Count  Dtype  \n",
      "---  ------       --------------  -----  \n",
      " 0   PassengerId  418 non-null    int64  \n",
      " 1   Pclass       418 non-null    int64  \n",
      " 2   Name         418 non-null    object \n",
      " 3   Sex          418 non-null    object \n",
      " 4   Age          332 non-null    float64\n",
      " 5   SibSp        418 non-null    int64  \n",
      " 6   Parch        418 non-null    int64  \n",
      " 7   Ticket       418 non-null    object \n",
      " 8   Fare         417 non-null    float64\n",
      " 9   Cabin        91 non-null     object \n",
      " 10  Embarked     418 non-null    object \n",
      "dtypes: float64(2), int64(4), object(5)\n",
      "memory usage: 36.0+ KB\n"
     ]
    }
   ],
   "source": [
    "df_train.info()\n",
    "print('---------------')\n",
    "df_test.info()"
   ]
  },
  {
   "cell_type": "code",
   "execution_count": 5,
   "id": "placed-blocking",
   "metadata": {
    "execution": {
     "iopub.execute_input": "2021-04-10T21:43:05.545472Z",
     "iopub.status.busy": "2021-04-10T21:43:05.544586Z",
     "iopub.status.idle": "2021-04-10T21:43:05.570003Z",
     "shell.execute_reply": "2021-04-10T21:43:05.569438Z"
    },
    "id": "FxSHe4zykHTu",
    "papermill": {
     "duration": 0.068949,
     "end_time": "2021-04-10T21:43:05.570164",
     "exception": false,
     "start_time": "2021-04-10T21:43:05.501215",
     "status": "completed"
    },
    "tags": []
   },
   "outputs": [],
   "source": [
    "lived = df_train.query(\"Survived == 1\")\n",
    "dead = df_train.query(\"Survived == 0\")"
   ]
  },
  {
   "cell_type": "markdown",
   "id": "cubic-medicare",
   "metadata": {
    "id": "vhq3wivJZ3m0",
    "papermill": {
     "duration": 0.037765,
     "end_time": "2021-04-10T21:43:05.645843",
     "exception": false,
     "start_time": "2021-04-10T21:43:05.608078",
     "status": "completed"
    },
    "tags": []
   },
   "source": [
    "As we see first I sperate the training dataset into two groups one for who survived and the other one for who dead , that just to help as in data analysis ."
   ]
  },
  {
   "cell_type": "code",
   "execution_count": 6,
   "id": "asian-space",
   "metadata": {
    "execution": {
     "iopub.execute_input": "2021-04-10T21:43:05.727395Z",
     "iopub.status.busy": "2021-04-10T21:43:05.726759Z",
     "iopub.status.idle": "2021-04-10T21:43:06.061328Z",
     "shell.execute_reply": "2021-04-10T21:43:06.061855Z"
    },
    "id": "AXuLdT6M5V30",
    "outputId": "b02f9ddd-ab36-4c70-cf2d-297c11888d2d",
    "papermill": {
     "duration": 0.378043,
     "end_time": "2021-04-10T21:43:06.062040",
     "exception": false,
     "start_time": "2021-04-10T21:43:05.683997",
     "status": "completed"
    },
    "tags": []
   },
   "outputs": [
    {
     "data": {
      "text/plain": [
       "<AxesSubplot:>"
      ]
     },
     "execution_count": 6,
     "metadata": {},
     "output_type": "execute_result"
    },
    {
     "data": {
      "image/png": "[encoded data removed]",
      "text/plain": [
       "<Figure size 432x288 with 2 Axes>"
      ]
     },
     "metadata": {},
     "output_type": "display_data"
    }
   ],
   "source": [
    "corr = df_train.corr()\n",
    "sns.heatmap(corr)"
   ]
  },
  {
   "cell_type": "markdown",
   "id": "informed-amsterdam",
   "metadata": {
    "id": "MM9cBy5GabF8",
    "papermill": {
     "duration": 0.039645,
     "end_time": "2021-04-10T21:43:06.141756",
     "exception": false,
     "start_time": "2021-04-10T21:43:06.102111",
     "status": "completed"
    },
    "tags": []
   },
   "source": [
    "Here we saw the correlation between the features , In my view I see that the effective data is :\n",
    "1. Age\n",
    "2. SibSp\n",
    "3. Parch\n",
    "4. Sex"
   ]
  },
  {
   "cell_type": "code",
   "execution_count": 7,
   "id": "stopped-recall",
   "metadata": {
    "execution": {
     "iopub.execute_input": "2021-04-10T21:43:06.230187Z",
     "iopub.status.busy": "2021-04-10T21:43:06.226380Z",
     "iopub.status.idle": "2021-04-10T21:43:06.261208Z",
     "shell.execute_reply": "2021-04-10T21:43:06.260633Z"
    },
    "id": "v8qYdiNt5yGZ",
    "outputId": "d5bfbf68-40c1-4d7c-a63d-f01484244cba",
    "papermill": {
     "duration": 0.079589,
     "end_time": "2021-04-10T21:43:06.261396",
     "exception": false,
     "start_time": "2021-04-10T21:43:06.181807",
     "status": "completed"
    },
    "tags": []
   },
   "outputs": [
    {
     "data": {
      "text/html": [
       "<div>\n",
       "<style scoped>\n",
       "    .dataframe tbody tr th:only-of-type {\n",
       "        vertical-align: middle;\n",
       "    }\n",
       "\n",
       "    .dataframe tbody tr th {\n",
       "        vertical-align: top;\n",
       "    }\n",
       "\n",
       "    .dataframe thead th {\n",
       "        text-align: right;\n",
       "    }\n",
       "</style>\n",
       "<table border=\"1\" class=\"dataframe\">\n",
       "  <thead>\n",
       "    <tr style=\"text-align: right;\">\n",
       "      <th></th>\n",
       "      <th>PassengerId</th>\n",
       "      <th>Survived</th>\n",
       "      <th>Pclass</th>\n",
       "      <th>Age</th>\n",
       "      <th>SibSp</th>\n",
       "      <th>Parch</th>\n",
       "      <th>Fare</th>\n",
       "    </tr>\n",
       "  </thead>\n",
       "  <tbody>\n",
       "    <tr>\n",
       "      <th>count</th>\n",
       "      <td>891.000000</td>\n",
       "      <td>891.000000</td>\n",
       "      <td>891.000000</td>\n",
       "      <td>714.000000</td>\n",
       "      <td>891.000000</td>\n",
       "      <td>891.000000</td>\n",
       "      <td>891.000000</td>\n",
       "    </tr>\n",
       "    <tr>\n",
       "      <th>mean</th>\n",
       "      <td>446.000000</td>\n",
       "      <td>0.383838</td>\n",
       "      <td>2.308642</td>\n",
       "      <td>29.699118</td>\n",
       "      <td>0.523008</td>\n",
       "      <td>0.381594</td>\n",
       "      <td>32.204208</td>\n",
       "    </tr>\n",
       "    <tr>\n",
       "      <th>std</th>\n",
       "      <td>257.353842</td>\n",
       "      <td>0.486592</td>\n",
       "      <td>0.836071</td>\n",
       "      <td>14.526497</td>\n",
       "      <td>1.102743</td>\n",
       "      <td>0.806057</td>\n",
       "      <td>49.693429</td>\n",
       "    </tr>\n",
       "    <tr>\n",
       "      <th>min</th>\n",
       "      <td>1.000000</td>\n",
       "      <td>0.000000</td>\n",
       "      <td>1.000000</td>\n",
       "      <td>0.420000</td>\n",
       "      <td>0.000000</td>\n",
       "      <td>0.000000</td>\n",
       "      <td>0.000000</td>\n",
       "    </tr>\n",
       "    <tr>\n",
       "      <th>25%</th>\n",
       "      <td>223.500000</td>\n",
       "      <td>0.000000</td>\n",
       "      <td>2.000000</td>\n",
       "      <td>20.125000</td>\n",
       "      <td>0.000000</td>\n",
       "      <td>0.000000</td>\n",
       "      <td>7.910400</td>\n",
       "    </tr>\n",
       "    <tr>\n",
       "      <th>50%</th>\n",
       "      <td>446.000000</td>\n",
       "      <td>0.000000</td>\n",
       "      <td>3.000000</td>\n",
       "      <td>28.000000</td>\n",
       "      <td>0.000000</td>\n",
       "      <td>0.000000</td>\n",
       "      <td>14.454200</td>\n",
       "    </tr>\n",
       "    <tr>\n",
       "      <th>75%</th>\n",
       "      <td>668.500000</td>\n",
       "      <td>1.000000</td>\n",
       "      <td>3.000000</td>\n",
       "      <td>38.000000</td>\n",
       "      <td>1.000000</td>\n",
       "      <td>0.000000</td>\n",
       "      <td>31.000000</td>\n",
       "    </tr>\n",
       "    <tr>\n",
       "      <th>max</th>\n",
       "      <td>891.000000</td>\n",
       "      <td>1.000000</td>\n",
       "      <td>3.000000</td>\n",
       "      <td>80.000000</td>\n",
       "      <td>8.000000</td>\n",
       "      <td>6.000000</td>\n",
       "      <td>512.329200</td>\n",
       "    </tr>\n",
       "  </tbody>\n",
       "</table>\n",
       "</div>"
      ],
      "text/plain": [
       "       PassengerId    Survived      Pclass         Age       SibSp  \\\n",
       "count   891.000000  891.000000  891.000000  714.000000  891.000000   \n",
       "mean    446.000000    0.383838    2.308642   29.699118    0.523008   \n",
       "std     257.353842    0.486592    0.836071   14.526497    1.102743   \n",
       "min       1.000000    0.000000    1.000000    0.420000    0.000000   \n",
       "25%     223.500000    0.000000    2.000000   20.125000    0.000000   \n",
       "50%     446.000000    0.000000    3.000000   28.000000    0.000000   \n",
       "75%     668.500000    1.000000    3.000000   38.000000    1.000000   \n",
       "max     891.000000    1.000000    3.000000   80.000000    8.000000   \n",
       "\n",
       "            Parch        Fare  \n",
       "count  891.000000  891.000000  \n",
       "mean     0.381594   32.204208  \n",
       "std      0.806057   49.693429  \n",
       "min      0.000000    0.000000  \n",
       "25%      0.000000    7.910400  \n",
       "50%      0.000000   14.454200  \n",
       "75%      0.000000   31.000000  \n",
       "max      6.000000  512.329200  "
      ]
     },
     "execution_count": 7,
     "metadata": {},
     "output_type": "execute_result"
    }
   ],
   "source": [
    "df_train.describe()"
   ]
  },
  {
   "cell_type": "markdown",
   "id": "signed-session",
   "metadata": {
    "id": "9TAJ5njMa6RX",
    "papermill": {
     "duration": 0.051181,
     "end_time": "2021-04-10T21:43:06.372633",
     "exception": false,
     "start_time": "2021-04-10T21:43:06.321452",
     "status": "completed"
    },
    "tags": []
   },
   "source": [
    "As we saw in the describtion above the mean of age is 29 years and at least everyone have 1 SibSp and 1 Parch ."
   ]
  },
  {
   "cell_type": "code",
   "execution_count": 8,
   "id": "durable-saver",
   "metadata": {
    "execution": {
     "iopub.execute_input": "2021-04-10T21:43:06.464481Z",
     "iopub.status.busy": "2021-04-10T21:43:06.463825Z",
     "iopub.status.idle": "2021-04-10T21:43:06.486187Z",
     "shell.execute_reply": "2021-04-10T21:43:06.486785Z"
    },
    "id": "FSw0StNB8BrR",
    "outputId": "6d19097d-fb0b-4c6c-a53c-722df66df5e5",
    "papermill": {
     "duration": 0.071006,
     "end_time": "2021-04-10T21:43:06.486960",
     "exception": false,
     "start_time": "2021-04-10T21:43:06.415954",
     "status": "completed"
    },
    "tags": []
   },
   "outputs": [
    {
     "data": {
      "text/html": [
       "<div>\n",
       "<style scoped>\n",
       "    .dataframe tbody tr th:only-of-type {\n",
       "        vertical-align: middle;\n",
       "    }\n",
       "\n",
       "    .dataframe tbody tr th {\n",
       "        vertical-align: top;\n",
       "    }\n",
       "\n",
       "    .dataframe thead th {\n",
       "        text-align: right;\n",
       "    }\n",
       "</style>\n",
       "<table border=\"1\" class=\"dataframe\">\n",
       "  <thead>\n",
       "    <tr style=\"text-align: right;\">\n",
       "      <th></th>\n",
       "      <th>Name</th>\n",
       "      <th>Sex</th>\n",
       "      <th>Ticket</th>\n",
       "      <th>Cabin</th>\n",
       "      <th>Embarked</th>\n",
       "    </tr>\n",
       "  </thead>\n",
       "  <tbody>\n",
       "    <tr>\n",
       "      <th>count</th>\n",
       "      <td>891</td>\n",
       "      <td>891</td>\n",
       "      <td>891</td>\n",
       "      <td>204</td>\n",
       "      <td>889</td>\n",
       "    </tr>\n",
       "    <tr>\n",
       "      <th>unique</th>\n",
       "      <td>891</td>\n",
       "      <td>2</td>\n",
       "      <td>681</td>\n",
       "      <td>147</td>\n",
       "      <td>3</td>\n",
       "    </tr>\n",
       "    <tr>\n",
       "      <th>top</th>\n",
       "      <td>Strom, Mrs. Wilhelm (Elna Matilda Persson)</td>\n",
       "      <td>male</td>\n",
       "      <td>1601</td>\n",
       "      <td>C23 C25 C27</td>\n",
       "      <td>S</td>\n",
       "    </tr>\n",
       "    <tr>\n",
       "      <th>freq</th>\n",
       "      <td>1</td>\n",
       "      <td>577</td>\n",
       "      <td>7</td>\n",
       "      <td>4</td>\n",
       "      <td>644</td>\n",
       "    </tr>\n",
       "  </tbody>\n",
       "</table>\n",
       "</div>"
      ],
      "text/plain": [
       "                                              Name   Sex Ticket        Cabin  \\\n",
       "count                                          891   891    891          204   \n",
       "unique                                         891     2    681          147   \n",
       "top     Strom, Mrs. Wilhelm (Elna Matilda Persson)  male   1601  C23 C25 C27   \n",
       "freq                                             1   577      7            4   \n",
       "\n",
       "       Embarked  \n",
       "count       889  \n",
       "unique        3  \n",
       "top           S  \n",
       "freq        644  "
      ]
     },
     "execution_count": 8,
     "metadata": {},
     "output_type": "execute_result"
    }
   ],
   "source": [
    "df_train.describe(include=['O'])"
   ]
  },
  {
   "cell_type": "markdown",
   "id": "structural-ranch",
   "metadata": {
    "id": "HZzUFcA5bQLh",
    "papermill": {
     "duration": 0.040696,
     "end_time": "2021-04-10T21:43:06.568971",
     "exception": false,
     "start_time": "2021-04-10T21:43:06.528275",
     "status": "completed"
    },
    "tags": []
   },
   "source": [
    "there we saw that most of our passengers was males and came from embarked S .\n",
    "\n",
    " > when we look to the following desribtion we discover most of the deaths were in males  we saw that in this dataset about 550 were dead , 468 of them were males .\n",
    "\n",
    "> In the other hand when we look on who is survived we found that females who is the most survived there , 342 people in this dataset were survived , 233 of them were females"
   ]
  },
  {
   "cell_type": "code",
   "execution_count": 9,
   "id": "chubby-angola",
   "metadata": {
    "execution": {
     "iopub.execute_input": "2021-04-10T21:43:06.654009Z",
     "iopub.status.busy": "2021-04-10T21:43:06.653271Z",
     "iopub.status.idle": "2021-04-10T21:43:06.676086Z",
     "shell.execute_reply": "2021-04-10T21:43:06.675445Z"
    },
    "id": "euAa0-2B6Zxb",
    "outputId": "41552141-7595-435a-f499-fe06684265b6",
    "papermill": {
     "duration": 0.066609,
     "end_time": "2021-04-10T21:43:06.676235",
     "exception": false,
     "start_time": "2021-04-10T21:43:06.609626",
     "status": "completed"
    },
    "tags": []
   },
   "outputs": [
    {
     "data": {
      "text/html": [
       "<div>\n",
       "<style scoped>\n",
       "    .dataframe tbody tr th:only-of-type {\n",
       "        vertical-align: middle;\n",
       "    }\n",
       "\n",
       "    .dataframe tbody tr th {\n",
       "        vertical-align: top;\n",
       "    }\n",
       "\n",
       "    .dataframe thead th {\n",
       "        text-align: right;\n",
       "    }\n",
       "</style>\n",
       "<table border=\"1\" class=\"dataframe\">\n",
       "  <thead>\n",
       "    <tr style=\"text-align: right;\">\n",
       "      <th></th>\n",
       "      <th>count</th>\n",
       "      <th>unique</th>\n",
       "      <th>top</th>\n",
       "      <th>freq</th>\n",
       "    </tr>\n",
       "    <tr>\n",
       "      <th>Survived</th>\n",
       "      <th></th>\n",
       "      <th></th>\n",
       "      <th></th>\n",
       "      <th></th>\n",
       "    </tr>\n",
       "  </thead>\n",
       "  <tbody>\n",
       "    <tr>\n",
       "      <th>0</th>\n",
       "      <td>549</td>\n",
       "      <td>2</td>\n",
       "      <td>male</td>\n",
       "      <td>468</td>\n",
       "    </tr>\n",
       "    <tr>\n",
       "      <th>1</th>\n",
       "      <td>342</td>\n",
       "      <td>2</td>\n",
       "      <td>female</td>\n",
       "      <td>233</td>\n",
       "    </tr>\n",
       "  </tbody>\n",
       "</table>\n",
       "</div>"
      ],
      "text/plain": [
       "         count unique     top freq\n",
       "Survived                          \n",
       "0          549      2    male  468\n",
       "1          342      2  female  233"
      ]
     },
     "execution_count": 9,
     "metadata": {},
     "output_type": "execute_result"
    }
   ],
   "source": [
    "df_train.groupby('Survived')['Sex'].describe()"
   ]
  },
  {
   "cell_type": "markdown",
   "id": "adolescent-romance",
   "metadata": {
    "id": "PtCRrk8VcsCS",
    "papermill": {
     "duration": 0.041085,
     "end_time": "2021-04-10T21:43:06.759215",
     "exception": false,
     "start_time": "2021-04-10T21:43:06.718130",
     "status": "completed"
    },
    "tags": []
   },
   "source": [
    "In the following graph, we will see that people who were older than 50 years had less hope to rescue .\n",
    "\n",
    "Aslo most of deaths were between 20 years and 25 years and it's start going down after 30 years .\n",
    "\n",
    "babies between 1 year to 5 years have more hope to rescure also who is between 25 years and 35 years have hope to ."
   ]
  },
  {
   "cell_type": "code",
   "execution_count": 10,
   "id": "excellent-bermuda",
   "metadata": {
    "execution": {
     "iopub.execute_input": "2021-04-10T21:43:06.862215Z",
     "iopub.status.busy": "2021-04-10T21:43:06.847147Z",
     "iopub.status.idle": "2021-04-10T21:43:07.225480Z",
     "shell.execute_reply": "2021-04-10T21:43:07.224893Z"
    },
    "id": "nMyTUZLF-15x",
    "outputId": "ef11b982-807b-4e1f-c926-778bdd8b6353",
    "papermill": {
     "duration": 0.425041,
     "end_time": "2021-04-10T21:43:07.225651",
     "exception": false,
     "start_time": "2021-04-10T21:43:06.800610",
     "status": "completed"
    },
    "tags": []
   },
   "outputs": [
    {
     "data": {
      "text/plain": [
       "<seaborn.axisgrid.FacetGrid at 0x7f1624562fd0>"
      ]
     },
     "execution_count": 10,
     "metadata": {},
     "output_type": "execute_result"
    },
    {
     "data": {
      "image/png": "[encoded data removed]",
      "text/plain": [
       "<Figure size 432x216 with 2 Axes>"
      ]
     },
     "metadata": {},
     "output_type": "display_data"
    }
   ],
   "source": [
    "g = sns.FacetGrid(df_train,col='Survived')\n",
    "g.map(plt.hist,'Age')"
   ]
  },
  {
   "cell_type": "markdown",
   "id": "given-universe",
   "metadata": {
    "id": "vnMap0LBd6qs",
    "papermill": {
     "duration": 0.042251,
     "end_time": "2021-04-10T21:43:07.311107",
     "exception": false,
     "start_time": "2021-04-10T21:43:07.268856",
     "status": "completed"
    },
    "tags": []
   },
   "source": [
    "> the following graph shows as that is feamles have more hope than males to rescure , we will see the number of deaths in males is bigger than females , that makes as to discover in the titanic rescue operation, they were focused on females and babies but not the same focus with males, which makes the death numbers are higher in males"
   ]
  },
  {
   "cell_type": "code",
   "execution_count": 11,
   "id": "removable-winter",
   "metadata": {
    "execution": {
     "iopub.execute_input": "2021-04-10T21:43:07.402917Z",
     "iopub.status.busy": "2021-04-10T21:43:07.402086Z",
     "iopub.status.idle": "2021-04-10T21:43:08.093735Z",
     "shell.execute_reply": "2021-04-10T21:43:08.092292Z"
    },
    "id": "DPcZ-g7j-3-E",
    "outputId": "4960d7c3-a553-426b-b496-70639e15b772",
    "papermill": {
     "duration": 0.74009,
     "end_time": "2021-04-10T21:43:08.093911",
     "exception": false,
     "start_time": "2021-04-10T21:43:07.353821",
     "status": "completed"
    },
    "tags": []
   },
   "outputs": [
    {
     "data": {
      "text/plain": [
       "<seaborn.axisgrid.FacetGrid at 0x7f16243fbf90>"
      ]
     },
     "execution_count": 11,
     "metadata": {},
     "output_type": "execute_result"
    },
    {
     "data": {
      "image/png": "[encoded data removed]",
      "text/plain": [
       "<Figure size 432x432 with 4 Axes>"
      ]
     },
     "metadata": {},
     "output_type": "display_data"
    }
   ],
   "source": [
    "g = sns.FacetGrid(df_train,col='Sex',row='Survived')\n",
    "g.map(plt.hist,'Age')"
   ]
  },
  {
   "cell_type": "markdown",
   "id": "destroyed-stanley",
   "metadata": {
    "id": "Gom3LhA9e_jE",
    "papermill": {
     "duration": 0.044011,
     "end_time": "2021-04-10T21:43:08.182122",
     "exception": false,
     "start_time": "2021-04-10T21:43:08.138111",
     "status": "completed"
    },
    "tags": []
   },
   "source": [
    "the following graph just to be sure about the info that we said in the beginnings which says \" Most of our passengers came from embarked S \" ."
   ]
  },
  {
   "cell_type": "code",
   "execution_count": 12,
   "id": "arranged-stockholm",
   "metadata": {
    "execution": {
     "iopub.execute_input": "2021-04-10T21:43:08.298046Z",
     "iopub.status.busy": "2021-04-10T21:43:08.295158Z",
     "iopub.status.idle": "2021-04-10T21:43:08.854036Z",
     "shell.execute_reply": "2021-04-10T21:43:08.853395Z"
    },
    "id": "4ms8q06A_5AZ",
    "outputId": "29c08030-48fa-4c74-999d-df606bf0014b",
    "papermill": {
     "duration": 0.626947,
     "end_time": "2021-04-10T21:43:08.854180",
     "exception": false,
     "start_time": "2021-04-10T21:43:08.227233",
     "status": "completed"
    },
    "tags": []
   },
   "outputs": [
    {
     "data": {
      "text/plain": [
       "<seaborn.axisgrid.FacetGrid at 0x7f16243fbed0>"
      ]
     },
     "execution_count": 12,
     "metadata": {},
     "output_type": "execute_result"
    },
    {
     "data": {
      "image/png": "[encoded data removed]",
      "text/plain": [
       "<Figure size 216x648 with 3 Axes>"
      ]
     },
     "metadata": {},
     "output_type": "display_data"
    }
   ],
   "source": [
    "g = sns.FacetGrid(df_train,row = 'Embarked')\n",
    "g.map(plt.hist ,'Survived')"
   ]
  },
  {
   "cell_type": "markdown",
   "id": "sound-means",
   "metadata": {
    "id": "nBpBT5Phfof-",
    "papermill": {
     "duration": 0.046603,
     "end_time": "2021-04-10T21:43:08.947123",
     "exception": false,
     "start_time": "2021-04-10T21:43:08.900520",
     "status": "completed"
    },
    "tags": []
   },
   "source": [
    "Instead of looking at SibSp and Parch alone we are going we put them in the same feature under the name of FamilySize and that what we called features engineering.\n",
    "\n",
    " > I want you to think why I add 1 to?\n",
    "\n",
    " If you look at the graphs after the description below, you will find that families with more than 5 people have less hope than other families in rescue operations, because the large family were going to take more time than other families were which less than 5 people.\n"
   ]
  },
  {
   "cell_type": "code",
   "execution_count": 13,
   "id": "declared-stadium",
   "metadata": {
    "execution": {
     "iopub.execute_input": "2021-04-10T21:43:09.058693Z",
     "iopub.status.busy": "2021-04-10T21:43:09.057530Z",
     "iopub.status.idle": "2021-04-10T21:43:09.111724Z",
     "shell.execute_reply": "2021-04-10T21:43:09.111018Z"
    },
    "id": "-7LZyBoBH7du",
    "outputId": "47e054c0-528b-4b83-c906-afb3c45f3c93",
    "papermill": {
     "duration": 0.118748,
     "end_time": "2021-04-10T21:43:09.111872",
     "exception": false,
     "start_time": "2021-04-10T21:43:08.993124",
     "status": "completed"
    },
    "tags": []
   },
   "outputs": [
    {
     "name": "stdout",
     "output_type": "stream",
     "text": [
      "            count  mean  std  min  25%  50%  75%  max\n",
      "FamilySize                                           \n",
      "1           163.0   1.0  0.0  1.0  1.0  1.0  1.0  1.0\n",
      "2            89.0   2.0  0.0  2.0  2.0  2.0  2.0  2.0\n",
      "3            59.0   3.0  0.0  3.0  3.0  3.0  3.0  3.0\n",
      "4            21.0   4.0  0.0  4.0  4.0  4.0  4.0  4.0\n",
      "5             3.0   5.0  0.0  5.0  5.0  5.0  5.0  5.0\n",
      "6             3.0   6.0  0.0  6.0  6.0  6.0  6.0  6.0\n",
      "7             4.0   7.0  0.0  7.0  7.0  7.0  7.0  7.0\n",
      "----------------------------------------------------------------------\n",
      "            count  mean  std   min   25%   50%   75%   max\n",
      "FamilySize                                                \n",
      "1           374.0   1.0  0.0   1.0   1.0   1.0   1.0   1.0\n",
      "2            72.0   2.0  0.0   2.0   2.0   2.0   2.0   2.0\n",
      "3            43.0   3.0  0.0   3.0   3.0   3.0   3.0   3.0\n",
      "4             8.0   4.0  0.0   4.0   4.0   4.0   4.0   4.0\n",
      "5            12.0   5.0  0.0   5.0   5.0   5.0   5.0   5.0\n",
      "6            19.0   6.0  0.0   6.0   6.0   6.0   6.0   6.0\n",
      "7             8.0   7.0  0.0   7.0   7.0   7.0   7.0   7.0\n",
      "8             6.0   8.0  0.0   8.0   8.0   8.0   8.0   8.0\n",
      "11            7.0  11.0  0.0  11.0  11.0  11.0  11.0  11.0\n"
     ]
    }
   ],
   "source": [
    "for dataset in connect:\n",
    "  dataset['FamilySize'] = dataset['SibSp'] + dataset['Parch'] + 1\n",
    "\n",
    "lived = df_train.query(\"Survived == 1\")\n",
    "dead = df_train.query(\"Survived == 0\")\n",
    "\n",
    "print(lived.groupby('FamilySize')['FamilySize'].describe())\n",
    "print(\"-\"*70)\n",
    "print(dead.groupby('FamilySize')['FamilySize'].describe())"
   ]
  },
  {
   "cell_type": "code",
   "execution_count": 14,
   "id": "rotary-policy",
   "metadata": {
    "execution": {
     "iopub.execute_input": "2021-04-10T21:43:09.212983Z",
     "iopub.status.busy": "2021-04-10T21:43:09.212255Z",
     "iopub.status.idle": "2021-04-10T21:43:09.591315Z",
     "shell.execute_reply": "2021-04-10T21:43:09.590701Z"
    },
    "id": "7PYd35q1jrCd",
    "outputId": "79b940d1-25a9-43b1-def9-6746fd9b6d23",
    "papermill": {
     "duration": 0.432771,
     "end_time": "2021-04-10T21:43:09.591461",
     "exception": false,
     "start_time": "2021-04-10T21:43:09.158690",
     "status": "completed"
    },
    "tags": []
   },
   "outputs": [
    {
     "data": {
      "text/plain": [
       "<seaborn.axisgrid.FacetGrid at 0x7f1624078850>"
      ]
     },
     "execution_count": 14,
     "metadata": {},
     "output_type": "execute_result"
    },
    {
     "data": {
      "image/png": "[encoded data removed]",
      "text/plain": [
       "<Figure size 216x432 with 2 Axes>"
      ]
     },
     "metadata": {},
     "output_type": "display_data"
    }
   ],
   "source": [
    "g = sns.FacetGrid(df_train,row='Survived')\n",
    "g.map(plt.hist,'FamilySize')"
   ]
  },
  {
   "cell_type": "markdown",
   "id": "green-tradition",
   "metadata": {
    "id": "__cmScxAhI82",
    "papermill": {
     "duration": 0.047525,
     "end_time": "2021-04-10T21:43:09.686908",
     "exception": false,
     "start_time": "2021-04-10T21:43:09.639383",
     "status": "completed"
    },
    "tags": []
   },
   "source": [
    "Now we're going to create a new feature called **IsAlone** , it's return 1 if the **FamilySize** equal to 1 or 0 if the **FamilySize** equal to more than 1 .\n",
    "\n",
    "I'm thinking now you understand why we added 1 before .\n",
    "\n",
    "> In the few cells below we will find most of the people dead were alone "
   ]
  },
  {
   "cell_type": "code",
   "execution_count": 15,
   "id": "scenic-production",
   "metadata": {
    "execution": {
     "iopub.execute_input": "2021-04-10T21:43:09.799721Z",
     "iopub.status.busy": "2021-04-10T21:43:09.794831Z",
     "iopub.status.idle": "2021-04-10T21:43:09.803316Z",
     "shell.execute_reply": "2021-04-10T21:43:09.802668Z"
    },
    "id": "od9cDfNXnCcQ",
    "papermill": {
     "duration": 0.069056,
     "end_time": "2021-04-10T21:43:09.803461",
     "exception": false,
     "start_time": "2021-04-10T21:43:09.734405",
     "status": "completed"
    },
    "tags": []
   },
   "outputs": [],
   "source": [
    "df_train['IsAlone'] = 0 \n",
    "df_train.loc[ df_train['FamilySize'] == 1 , 'IsAlone' ] = 1\n",
    "df_test['IsAlone'] = 0 \n",
    "df_test.loc[ df_test['FamilySize'] == 1 , 'IsAlone' ] = 1\n",
    "\n",
    "lived = df_train.query(\"Survived == 1\")\n",
    "dead = df_train.query(\"Survived == 0\")"
   ]
  },
  {
   "cell_type": "code",
   "execution_count": 16,
   "id": "fitted-terminology",
   "metadata": {
    "execution": {
     "iopub.execute_input": "2021-04-10T21:43:09.919474Z",
     "iopub.status.busy": "2021-04-10T21:43:09.918434Z",
     "iopub.status.idle": "2021-04-10T21:43:09.937082Z",
     "shell.execute_reply": "2021-04-10T21:43:09.936522Z"
    },
    "id": "y4YDFEbpogq7",
    "outputId": "5aac8c0a-e846-4098-bf1a-8585ee3bf69f",
    "papermill": {
     "duration": 0.08453,
     "end_time": "2021-04-10T21:43:09.937223",
     "exception": false,
     "start_time": "2021-04-10T21:43:09.852693",
     "status": "completed"
    },
    "tags": []
   },
   "outputs": [
    {
     "name": "stdout",
     "output_type": "stream",
     "text": [
      "         count  mean  std  min  25%  50%  75%  max\n",
      "IsAlone                                           \n",
      "0        179.0   1.0  0.0  1.0  1.0  1.0  1.0  1.0\n",
      "1        163.0   1.0  0.0  1.0  1.0  1.0  1.0  1.0\n",
      "--------------------------------------------------\n",
      "         count  mean  std  min  25%  50%  75%  max\n",
      "IsAlone                                           \n",
      "0        175.0   0.0  0.0  0.0  0.0  0.0  0.0  0.0\n",
      "1        374.0   0.0  0.0  0.0  0.0  0.0  0.0  0.0\n"
     ]
    }
   ],
   "source": [
    "print(lived.groupby('IsAlone')['Survived'].describe())\n",
    "print('-'*50)\n",
    "print(dead.groupby('IsAlone')['Survived'].describe())"
   ]
  },
  {
   "cell_type": "code",
   "execution_count": 17,
   "id": "hearing-monte",
   "metadata": {
    "execution": {
     "iopub.execute_input": "2021-04-10T21:43:10.056824Z",
     "iopub.status.busy": "2021-04-10T21:43:10.054455Z",
     "iopub.status.idle": "2021-04-10T21:43:10.434759Z",
     "shell.execute_reply": "2021-04-10T21:43:10.434210Z"
    },
    "id": "H4Ner6J3o_yq",
    "outputId": "dbf211c9-68ee-462e-a2cf-f8ba37d2ceaf",
    "papermill": {
     "duration": 0.449632,
     "end_time": "2021-04-10T21:43:10.434912",
     "exception": false,
     "start_time": "2021-04-10T21:43:09.985280",
     "status": "completed"
    },
    "tags": []
   },
   "outputs": [
    {
     "data": {
      "text/plain": [
       "<seaborn.axisgrid.FacetGrid at 0x7f16240783d0>"
      ]
     },
     "execution_count": 17,
     "metadata": {},
     "output_type": "execute_result"
    },
    {
     "data": {
      "image/png": "[encoded data removed]",
      "text/plain": [
       "<Figure size 216x432 with 2 Axes>"
      ]
     },
     "metadata": {},
     "output_type": "display_data"
    }
   ],
   "source": [
    "g = sns.FacetGrid(data=df_train,row='Survived')\n",
    "g.map(plt.hist,'IsAlone')"
   ]
  },
  {
   "cell_type": "markdown",
   "id": "aging-newark",
   "metadata": {
    "id": "Y-rQhrshUDQi",
    "papermill": {
     "duration": 0.051385,
     "end_time": "2021-04-10T21:43:10.535938",
     "exception": false,
     "start_time": "2021-04-10T21:43:10.484553",
     "status": "completed"
    },
    "tags": []
   },
   "source": [
    "# Data processing :\n",
    "\n",
    "Now after we took a look at the data and saw which features were effective in this disaster , if we remember in the beginning we found some of missing data in our dataset (training / testing ) , now we want to process this data by filling the nulls or delete this nulls features if we can't fill it.\n",
    "\n",
    "also we want to convert the categorical value to numeric values."
   ]
  },
  {
   "cell_type": "markdown",
   "id": "concrete-oliver",
   "metadata": {
    "id": "rXa1cfrfVZ1M",
    "papermill": {
     "duration": 0.049658,
     "end_time": "2021-04-10T21:43:10.635630",
     "exception": false,
     "start_time": "2021-04-10T21:43:10.585972",
     "status": "completed"
    },
    "tags": []
   },
   "source": [
    "First we will fill the nulls in embarked by give the nulls the value of most repeated embarked .\n"
   ]
  },
  {
   "cell_type": "code",
   "execution_count": 18,
   "id": "innovative-slovak",
   "metadata": {
    "execution": {
     "iopub.execute_input": "2021-04-10T21:43:10.741925Z",
     "iopub.status.busy": "2021-04-10T21:43:10.741161Z",
     "iopub.status.idle": "2021-04-10T21:43:10.745259Z",
     "shell.execute_reply": "2021-04-10T21:43:10.744649Z"
    },
    "id": "ORuzmnjg4lt7",
    "outputId": "4a0320d7-e0f4-4eba-b765-53a51e664261",
    "papermill": {
     "duration": 0.060112,
     "end_time": "2021-04-10T21:43:10.745398",
     "exception": false,
     "start_time": "2021-04-10T21:43:10.685286",
     "status": "completed"
    },
    "tags": []
   },
   "outputs": [
    {
     "name": "stdout",
     "output_type": "stream",
     "text": [
      "S\n"
     ]
    }
   ],
   "source": [
    "MostRepeat = dataset['Embarked'].dropna().mode()[0]\n",
    "print(MostRepeat)"
   ]
  },
  {
   "cell_type": "code",
   "execution_count": 19,
   "id": "imported-friday",
   "metadata": {
    "execution": {
     "iopub.execute_input": "2021-04-10T21:43:10.851895Z",
     "iopub.status.busy": "2021-04-10T21:43:10.851239Z",
     "iopub.status.idle": "2021-04-10T21:43:10.854385Z",
     "shell.execute_reply": "2021-04-10T21:43:10.853898Z"
    },
    "id": "I5lpgVJ74Y6C",
    "papermill": {
     "duration": 0.059256,
     "end_time": "2021-04-10T21:43:10.854544",
     "exception": false,
     "start_time": "2021-04-10T21:43:10.795288",
     "status": "completed"
    },
    "tags": []
   },
   "outputs": [],
   "source": [
    "for dataset in connect:\n",
    "  dataset['Embarked'] = dataset['Embarked'].fillna(MostRepeat)"
   ]
  },
  {
   "cell_type": "markdown",
   "id": "fuzzy-cabin",
   "metadata": {
    "id": "q1nPShHDWIYw",
    "papermill": {
     "duration": 0.049901,
     "end_time": "2021-04-10T21:43:10.954040",
     "exception": false,
     "start_time": "2021-04-10T21:43:10.904139",
     "status": "completed"
    },
    "tags": []
   },
   "source": [
    "In the next two cells we will convert the embarked and sex from a categorical values to numeirc values .\n"
   ]
  },
  {
   "cell_type": "code",
   "execution_count": 20,
   "id": "monetary-phenomenon",
   "metadata": {
    "execution": {
     "iopub.execute_input": "2021-04-10T21:43:11.063838Z",
     "iopub.status.busy": "2021-04-10T21:43:11.063023Z",
     "iopub.status.idle": "2021-04-10T21:43:11.065519Z",
     "shell.execute_reply": "2021-04-10T21:43:11.066019Z"
    },
    "id": "jxPbSBxO5GzM",
    "papermill": {
     "duration": 0.062262,
     "end_time": "2021-04-10T21:43:11.066186",
     "exception": false,
     "start_time": "2021-04-10T21:43:11.003924",
     "status": "completed"
    },
    "tags": []
   },
   "outputs": [],
   "source": [
    "for dataset in connect:\n",
    "  dataset['Embarked'] = dataset['Embarked'].map({'S':0,'C':1,'Q':2})"
   ]
  },
  {
   "cell_type": "code",
   "execution_count": 21,
   "id": "moving-accreditation",
   "metadata": {
    "execution": {
     "iopub.execute_input": "2021-04-10T21:43:11.174209Z",
     "iopub.status.busy": "2021-04-10T21:43:11.173465Z",
     "iopub.status.idle": "2021-04-10T21:43:11.176619Z",
     "shell.execute_reply": "2021-04-10T21:43:11.175931Z"
    },
    "id": "_F0p7V6u5evF",
    "papermill": {
     "duration": 0.060707,
     "end_time": "2021-04-10T21:43:11.176771",
     "exception": false,
     "start_time": "2021-04-10T21:43:11.116064",
     "status": "completed"
    },
    "tags": []
   },
   "outputs": [],
   "source": [
    "for dataset in connect:\n",
    "  dataset['Sex'] = dataset['Sex'].map({'male':0,'female':1})"
   ]
  },
  {
   "cell_type": "markdown",
   "id": "collaborative-bernard",
   "metadata": {
    "id": "yg7_3UTWWlax",
    "papermill": {
     "duration": 0.051427,
     "end_time": "2021-04-10T21:43:11.278341",
     "exception": false,
     "start_time": "2021-04-10T21:43:11.226914",
     "status": "completed"
    },
    "tags": []
   },
   "source": [
    "The next function for filling the nulls in age .\n",
    "it's from [Titanic Data Science Solutions](https://www.kaggle.com/startupsci/titanic-data-science-solutions)"
   ]
  },
  {
   "cell_type": "code",
   "execution_count": 22,
   "id": "sound-maryland",
   "metadata": {
    "execution": {
     "iopub.execute_input": "2021-04-10T21:43:11.384748Z",
     "iopub.status.busy": "2021-04-10T21:43:11.383950Z",
     "iopub.status.idle": "2021-04-10T21:43:11.387819Z",
     "shell.execute_reply": "2021-04-10T21:43:11.387167Z"
    },
    "id": "jHnEDPrv5qBH",
    "outputId": "dd4ee364-72df-4475-a93c-13648258de76",
    "papermill": {
     "duration": 0.059492,
     "end_time": "2021-04-10T21:43:11.387975",
     "exception": false,
     "start_time": "2021-04-10T21:43:11.328483",
     "status": "completed"
    },
    "tags": []
   },
   "outputs": [
    {
     "data": {
      "text/plain": [
       "array([[0., 0., 0.],\n",
       "       [0., 0., 0.]])"
      ]
     },
     "execution_count": 22,
     "metadata": {},
     "output_type": "execute_result"
    }
   ],
   "source": [
    "guess_ages = np.zeros((2,3))\n",
    "guess_ages"
   ]
  },
  {
   "cell_type": "code",
   "execution_count": 23,
   "id": "widespread-barrier",
   "metadata": {
    "execution": {
     "iopub.execute_input": "2021-04-10T21:43:11.494991Z",
     "iopub.status.busy": "2021-04-10T21:43:11.494236Z",
     "iopub.status.idle": "2021-04-10T21:43:11.640695Z",
     "shell.execute_reply": "2021-04-10T21:43:11.641281Z"
    },
    "id": "kuizcOd46I-a",
    "papermill": {
     "duration": 0.201158,
     "end_time": "2021-04-10T21:43:11.641511",
     "exception": false,
     "start_time": "2021-04-10T21:43:11.440353",
     "status": "completed"
    },
    "tags": []
   },
   "outputs": [],
   "source": [
    "for dataset in connect:\n",
    "    for i in range(0, 2):\n",
    "        for j in range(0, 3):\n",
    "            guess_df = dataset[(dataset['Sex'] == i) & \\\n",
    "                                  (dataset['Pclass'] == j+1)]['Age'].dropna()\n",
    "            age_guess = guess_df.median()\n",
    "            guess_ages[i,j] = int( age_guess/0.5 + 0.5 ) * 0.5\n",
    "            \n",
    "    for i in range(0, 2):\n",
    "        for j in range(0, 3):\n",
    "            dataset.loc[ (dataset.Age.isnull()) & (dataset.Sex == i) & (dataset.Pclass == j+1),\\\n",
    "                    'Age'] = guess_ages[i,j]\n",
    "\n",
    "    dataset['Age'] = dataset['Age'].astype(int)"
   ]
  },
  {
   "cell_type": "code",
   "execution_count": 24,
   "id": "considered-negotiation",
   "metadata": {
    "execution": {
     "iopub.execute_input": "2021-04-10T21:43:11.746997Z",
     "iopub.status.busy": "2021-04-10T21:43:11.746161Z",
     "iopub.status.idle": "2021-04-10T21:43:11.753044Z",
     "shell.execute_reply": "2021-04-10T21:43:11.752297Z"
    },
    "id": "QPL_SS4u6ayy",
    "papermill": {
     "duration": 0.060678,
     "end_time": "2021-04-10T21:43:11.753197",
     "exception": false,
     "start_time": "2021-04-10T21:43:11.692519",
     "status": "completed"
    },
    "tags": []
   },
   "outputs": [],
   "source": [
    "df_test['Fare'].fillna(df_test['Fare'].dropna().median(), inplace=True)"
   ]
  },
  {
   "cell_type": "code",
   "execution_count": 25,
   "id": "gross-mistake",
   "metadata": {
    "execution": {
     "iopub.execute_input": "2021-04-10T21:43:11.861015Z",
     "iopub.status.busy": "2021-04-10T21:43:11.860253Z",
     "iopub.status.idle": "2021-04-10T21:43:11.867560Z",
     "shell.execute_reply": "2021-04-10T21:43:11.868138Z"
    },
    "id": "58H1gefk8iC-",
    "papermill": {
     "duration": 0.063909,
     "end_time": "2021-04-10T21:43:11.868328",
     "exception": false,
     "start_time": "2021-04-10T21:43:11.804419",
     "status": "completed"
    },
    "tags": []
   },
   "outputs": [],
   "source": [
    "y_train = df_train['Survived'].values\n",
    "x_train = df_train.drop(['PassengerId','Name','Ticket','Cabin','Survived'],axis=1)\n",
    "x_test = df_test.drop(['Name','Ticket','Cabin'],axis=1)"
   ]
  },
  {
   "cell_type": "markdown",
   "id": "improved-turner",
   "metadata": {
    "id": "i25Dd4ZdXFCb",
    "papermill": {
     "duration": 0.051373,
     "end_time": "2021-04-10T21:43:11.970904",
     "exception": false,
     "start_time": "2021-04-10T21:43:11.919531",
     "status": "completed"
    },
    "tags": []
   },
   "source": [
    "# Model training :\n",
    "\n",
    "Now after we analysis our data then make some processing at it , to make it ready for training .\n",
    "\n",
    "we will use several algorithms ."
   ]
  },
  {
   "cell_type": "code",
   "execution_count": 26,
   "id": "arabic-specialist",
   "metadata": {
    "execution": {
     "iopub.execute_input": "2021-04-10T21:43:12.077697Z",
     "iopub.status.busy": "2021-04-10T21:43:12.076926Z",
     "iopub.status.idle": "2021-04-10T21:43:12.556890Z",
     "shell.execute_reply": "2021-04-10T21:43:12.556322Z"
    },
    "id": "ZyzIbYMFX_tm",
    "papermill": {
     "duration": 0.534845,
     "end_time": "2021-04-10T21:43:12.557044",
     "exception": false,
     "start_time": "2021-04-10T21:43:12.022199",
     "status": "completed"
    },
    "tags": []
   },
   "outputs": [],
   "source": [
    "from sklearn.metrics import classification_report , confusion_matrix\n",
    "from sklearn.ensemble import RandomForestClassifier\n",
    "from sklearn.linear_model import LogisticRegression , SGDClassifier\n",
    "from sklearn.tree import DecisionTreeClassifier"
   ]
  },
  {
   "cell_type": "code",
   "execution_count": 27,
   "id": "duplicate-biodiversity",
   "metadata": {
    "execution": {
     "iopub.execute_input": "2021-04-10T21:43:12.662552Z",
     "iopub.status.busy": "2021-04-10T21:43:12.661930Z",
     "iopub.status.idle": "2021-04-10T21:43:12.666878Z",
     "shell.execute_reply": "2021-04-10T21:43:12.667374Z"
    },
    "id": "zO8xjqU7Ys_a",
    "papermill": {
     "duration": 0.059201,
     "end_time": "2021-04-10T21:43:12.667582",
     "exception": false,
     "start_time": "2021-04-10T21:43:12.608381",
     "status": "completed"
    },
    "tags": []
   },
   "outputs": [],
   "source": [
    "IDs = x_test.pop('PassengerId')"
   ]
  },
  {
   "cell_type": "code",
   "execution_count": 28,
   "id": "italian-texture",
   "metadata": {
    "execution": {
     "iopub.execute_input": "2021-04-10T21:43:12.776586Z",
     "iopub.status.busy": "2021-04-10T21:43:12.775902Z",
     "iopub.status.idle": "2021-04-10T21:43:13.021254Z",
     "shell.execute_reply": "2021-04-10T21:43:13.020730Z"
    },
    "id": "I0MX9aJLamr9",
    "outputId": "94861ce5-7014-4f4e-d0c4-33f808aeca8b",
    "papermill": {
     "duration": 0.303155,
     "end_time": "2021-04-10T21:43:13.021436",
     "exception": false,
     "start_time": "2021-04-10T21:43:12.718281",
     "status": "completed"
    },
    "tags": []
   },
   "outputs": [
    {
     "data": {
      "text/plain": [
       "RandomForestClassifier(random_state=33)"
      ]
     },
     "execution_count": 28,
     "metadata": {},
     "output_type": "execute_result"
    }
   ],
   "source": [
    "RandomForestClassifier = RandomForestClassifier(random_state =33)\n",
    "RandomForestClassifier.fit(x_train,y_train)"
   ]
  },
  {
   "cell_type": "code",
   "execution_count": 29,
   "id": "medical-officer",
   "metadata": {
    "execution": {
     "iopub.execute_input": "2021-04-10T21:43:13.132659Z",
     "iopub.status.busy": "2021-04-10T21:43:13.131998Z",
     "iopub.status.idle": "2021-04-10T21:43:13.158535Z",
     "shell.execute_reply": "2021-04-10T21:43:13.159090Z"
    },
    "id": "Rs7LymGfbXyn",
    "papermill": {
     "duration": 0.086234,
     "end_time": "2021-04-10T21:43:13.159268",
     "exception": false,
     "start_time": "2021-04-10T21:43:13.073034",
     "status": "completed"
    },
    "tags": []
   },
   "outputs": [],
   "source": [
    "y_pred = RandomForestClassifier.predict(x_train)"
   ]
  },
  {
   "cell_type": "code",
   "execution_count": 30,
   "id": "unsigned-blackberry",
   "metadata": {
    "execution": {
     "iopub.execute_input": "2021-04-10T21:43:13.267346Z",
     "iopub.status.busy": "2021-04-10T21:43:13.266739Z",
     "iopub.status.idle": "2021-04-10T21:43:13.306110Z",
     "shell.execute_reply": "2021-04-10T21:43:13.306871Z"
    },
    "id": "EdWA3P_9a8QF",
    "outputId": "a465b2ab-0967-4f35-e724-0a4ba11d843a",
    "papermill": {
     "duration": 0.095971,
     "end_time": "2021-04-10T21:43:13.307108",
     "exception": false,
     "start_time": "2021-04-10T21:43:13.211137",
     "status": "completed"
    },
    "tags": []
   },
   "outputs": [
    {
     "name": "stdout",
     "output_type": "stream",
     "text": [
      "RandomForestClassifier score:  98.0\n",
      "              precision    recall  f1-score   support\n",
      "\n",
      "           0       0.97      0.99      0.98       549\n",
      "           1       0.99      0.96      0.97       342\n",
      "\n",
      "    accuracy                           0.98       891\n",
      "   macro avg       0.98      0.98      0.98       891\n",
      "weighted avg       0.98      0.98      0.98       891\n",
      "\n",
      "[[545   4]\n",
      " [ 14 328]]\n"
     ]
    }
   ],
   "source": [
    "print(\"RandomForestClassifier score: \" , np.round(RandomForestClassifier.score(x_train,y_train)*100))\n",
    "print(classification_report(y_train,y_pred))\n",
    "print(confusion_matrix(y_train,y_pred))"
   ]
  },
  {
   "cell_type": "code",
   "execution_count": 31,
   "id": "satellite-singing",
   "metadata": {
    "execution": {
     "iopub.execute_input": "2021-04-10T21:43:13.415688Z",
     "iopub.status.busy": "2021-04-10T21:43:13.415012Z",
     "iopub.status.idle": "2021-04-10T21:43:13.418966Z",
     "shell.execute_reply": "2021-04-10T21:43:13.419467Z"
    },
    "id": "_YJ9hhpTcENA",
    "papermill": {
     "duration": 0.059599,
     "end_time": "2021-04-10T21:43:13.419679",
     "exception": false,
     "start_time": "2021-04-10T21:43:13.360080",
     "status": "completed"
    },
    "tags": []
   },
   "outputs": [],
   "source": [
    "Logistic_Regression = LogisticRegression(penalty='l1',solver='liblinear',random_state=33)"
   ]
  },
  {
   "cell_type": "code",
   "execution_count": 32,
   "id": "southwest-interval",
   "metadata": {
    "execution": {
     "iopub.execute_input": "2021-04-10T21:43:13.527434Z",
     "iopub.status.busy": "2021-04-10T21:43:13.526848Z",
     "iopub.status.idle": "2021-04-10T21:43:13.541566Z",
     "shell.execute_reply": "2021-04-10T21:43:13.542151Z"
    },
    "id": "mbKdK0_-dkBR",
    "outputId": "ed355b45-69ea-4682-f4d6-3bf23a2d35cd",
    "papermill": {
     "duration": 0.070437,
     "end_time": "2021-04-10T21:43:13.542324",
     "exception": false,
     "start_time": "2021-04-10T21:43:13.471887",
     "status": "completed"
    },
    "tags": []
   },
   "outputs": [
    {
     "data": {
      "text/plain": [
       "LogisticRegression(penalty='l1', random_state=33, solver='liblinear')"
      ]
     },
     "execution_count": 32,
     "metadata": {},
     "output_type": "execute_result"
    }
   ],
   "source": [
    "Logistic_Regression.fit(x_train,y_train)"
   ]
  },
  {
   "cell_type": "code",
   "execution_count": 33,
   "id": "dense-lodge",
   "metadata": {
    "execution": {
     "iopub.execute_input": "2021-04-10T21:43:13.650871Z",
     "iopub.status.busy": "2021-04-10T21:43:13.650244Z",
     "iopub.status.idle": "2021-04-10T21:43:13.655925Z",
     "shell.execute_reply": "2021-04-10T21:43:13.656521Z"
    },
    "id": "8BFy5EC3dtI3",
    "papermill": {
     "duration": 0.061708,
     "end_time": "2021-04-10T21:43:13.656694",
     "exception": false,
     "start_time": "2021-04-10T21:43:13.594986",
     "status": "completed"
    },
    "tags": []
   },
   "outputs": [],
   "source": [
    "y_pred = Logistic_Regression.predict(x_train)"
   ]
  },
  {
   "cell_type": "code",
   "execution_count": 34,
   "id": "pacific-preserve",
   "metadata": {
    "execution": {
     "iopub.execute_input": "2021-04-10T21:43:13.765635Z",
     "iopub.status.busy": "2021-04-10T21:43:13.765000Z",
     "iopub.status.idle": "2021-04-10T21:43:13.781391Z",
     "shell.execute_reply": "2021-04-10T21:43:13.781947Z"
    },
    "id": "yNLoENb3dofy",
    "outputId": "6c58329d-0cf5-464b-c91c-1e929edc46c5",
    "papermill": {
     "duration": 0.072724,
     "end_time": "2021-04-10T21:43:13.782157",
     "exception": false,
     "start_time": "2021-04-10T21:43:13.709433",
     "status": "completed"
    },
    "tags": []
   },
   "outputs": [
    {
     "name": "stdout",
     "output_type": "stream",
     "text": [
      "LogisticRegression score:  81.0\n",
      "              precision    recall  f1-score   support\n",
      "\n",
      "           0       0.82      0.87      0.85       549\n",
      "           1       0.77      0.70      0.74       342\n",
      "\n",
      "    accuracy                           0.81       891\n",
      "   macro avg       0.80      0.79      0.79       891\n",
      "weighted avg       0.80      0.81      0.80       891\n",
      "\n",
      "[[478  71]\n",
      " [102 240]]\n"
     ]
    }
   ],
   "source": [
    "print(\"LogisticRegression score: \" , np.round(Logistic_Regression.score(x_train,y_train)*100))\n",
    "print(classification_report(y_train,y_pred))\n",
    "print(confusion_matrix(y_train,y_pred))"
   ]
  },
  {
   "cell_type": "code",
   "execution_count": 35,
   "id": "guided-virgin",
   "metadata": {
    "execution": {
     "iopub.execute_input": "2021-04-10T21:43:13.896031Z",
     "iopub.status.busy": "2021-04-10T21:43:13.895382Z",
     "iopub.status.idle": "2021-04-10T21:43:13.907725Z",
     "shell.execute_reply": "2021-04-10T21:43:13.907134Z"
    },
    "id": "ioHdztZzdyn0",
    "outputId": "e3c472a9-fbf8-4494-d975-f7a78187fa3a",
    "papermill": {
     "duration": 0.072347,
     "end_time": "2021-04-10T21:43:13.907874",
     "exception": false,
     "start_time": "2021-04-10T21:43:13.835527",
     "status": "completed"
    },
    "tags": []
   },
   "outputs": [
    {
     "data": {
      "text/plain": [
       "SGDClassifier(random_state=33)"
      ]
     },
     "execution_count": 35,
     "metadata": {},
     "output_type": "execute_result"
    }
   ],
   "source": [
    "SGDC = SGDClassifier(random_state=33)\n",
    "SGDC.fit(x_train,y_train)"
   ]
  },
  {
   "cell_type": "code",
   "execution_count": 36,
   "id": "clinical-panic",
   "metadata": {
    "execution": {
     "iopub.execute_input": "2021-04-10T21:43:14.025656Z",
     "iopub.status.busy": "2021-04-10T21:43:14.024978Z",
     "iopub.status.idle": "2021-04-10T21:43:14.027773Z",
     "shell.execute_reply": "2021-04-10T21:43:14.028261Z"
    },
    "id": "_mlZWzgAethQ",
    "papermill": {
     "duration": 0.066328,
     "end_time": "2021-04-10T21:43:14.028431",
     "exception": false,
     "start_time": "2021-04-10T21:43:13.962103",
     "status": "completed"
    },
    "tags": []
   },
   "outputs": [],
   "source": [
    "y_pred = SGDC.predict(x_train)"
   ]
  },
  {
   "cell_type": "code",
   "execution_count": 37,
   "id": "collectible-latino",
   "metadata": {
    "execution": {
     "iopub.execute_input": "2021-04-10T21:43:14.139706Z",
     "iopub.status.busy": "2021-04-10T21:43:14.139095Z",
     "iopub.status.idle": "2021-04-10T21:43:14.156446Z",
     "shell.execute_reply": "2021-04-10T21:43:14.155391Z"
    },
    "id": "APyz2RU_fE0B",
    "outputId": "0e047bd3-4b55-45c5-b875-b5c4daec9359",
    "papermill": {
     "duration": 0.073892,
     "end_time": "2021-04-10T21:43:14.156613",
     "exception": false,
     "start_time": "2021-04-10T21:43:14.082721",
     "status": "completed"
    },
    "tags": []
   },
   "outputs": [
    {
     "name": "stdout",
     "output_type": "stream",
     "text": [
      "SGDClassifier score:  81.0\n",
      "              precision    recall  f1-score   support\n",
      "\n",
      "           0       0.77      0.76      0.76       549\n",
      "           1       0.62      0.64      0.63       342\n",
      "\n",
      "    accuracy                           0.71       891\n",
      "   macro avg       0.70      0.70      0.70       891\n",
      "weighted avg       0.71      0.71      0.71       891\n",
      "\n",
      "[[416 133]\n",
      " [123 219]]\n"
     ]
    }
   ],
   "source": [
    "print(\"SGDClassifier score: \" , np.round(Logistic_Regression.score(x_train,y_train)*100))\n",
    "print(classification_report(y_train,y_pred))\n",
    "print(confusion_matrix(y_train,y_pred))"
   ]
  },
  {
   "cell_type": "code",
   "execution_count": 38,
   "id": "narrow-shock",
   "metadata": {
    "execution": {
     "iopub.execute_input": "2021-04-10T21:43:14.276472Z",
     "iopub.status.busy": "2021-04-10T21:43:14.275840Z",
     "iopub.status.idle": "2021-04-10T21:43:14.283876Z",
     "shell.execute_reply": "2021-04-10T21:43:14.283198Z"
    },
    "id": "Fl9tXhNCfIYK",
    "outputId": "6015f1ed-25a3-4414-cf54-606178712920",
    "papermill": {
     "duration": 0.073075,
     "end_time": "2021-04-10T21:43:14.284036",
     "exception": false,
     "start_time": "2021-04-10T21:43:14.210961",
     "status": "completed"
    },
    "tags": []
   },
   "outputs": [
    {
     "data": {
      "text/plain": [
       "DecisionTreeClassifier(random_state=33)"
      ]
     },
     "execution_count": 38,
     "metadata": {},
     "output_type": "execute_result"
    }
   ],
   "source": [
    "DecisionTree = DecisionTreeClassifier(random_state=33)\n",
    "DecisionTree.fit(x_train,y_train)"
   ]
  },
  {
   "cell_type": "code",
   "execution_count": 39,
   "id": "violent-addiction",
   "metadata": {
    "execution": {
     "iopub.execute_input": "2021-04-10T21:43:14.401173Z",
     "iopub.status.busy": "2021-04-10T21:43:14.400425Z",
     "iopub.status.idle": "2021-04-10T21:43:14.403020Z",
     "shell.execute_reply": "2021-04-10T21:43:14.403599Z"
    },
    "id": "Xovs28R8fVtE",
    "papermill": {
     "duration": 0.064757,
     "end_time": "2021-04-10T21:43:14.403775",
     "exception": false,
     "start_time": "2021-04-10T21:43:14.339018",
     "status": "completed"
    },
    "tags": []
   },
   "outputs": [],
   "source": [
    "y_pred = DecisionTree.predict(x_train)"
   ]
  },
  {
   "cell_type": "code",
   "execution_count": 40,
   "id": "wired-oriental",
   "metadata": {
    "execution": {
     "iopub.execute_input": "2021-04-10T21:43:14.517225Z",
     "iopub.status.busy": "2021-04-10T21:43:14.516543Z",
     "iopub.status.idle": "2021-04-10T21:43:14.534825Z",
     "shell.execute_reply": "2021-04-10T21:43:14.535484Z"
    },
    "id": "KV2TALNefbEH",
    "outputId": "7ce36bc5-745d-44b6-c9c8-ad46b0583db4",
    "papermill": {
     "duration": 0.077103,
     "end_time": "2021-04-10T21:43:14.535746",
     "exception": false,
     "start_time": "2021-04-10T21:43:14.458643",
     "status": "completed"
    },
    "tags": []
   },
   "outputs": [
    {
     "name": "stdout",
     "output_type": "stream",
     "text": [
      "DecisionTreeClassifier score:  81.0\n",
      "              precision    recall  f1-score   support\n",
      "\n",
      "           0       0.97      0.99      0.98       549\n",
      "           1       0.99      0.96      0.97       342\n",
      "\n",
      "    accuracy                           0.98       891\n",
      "   macro avg       0.98      0.98      0.98       891\n",
      "weighted avg       0.98      0.98      0.98       891\n",
      "\n",
      "[[546   3]\n",
      " [ 15 327]]\n"
     ]
    }
   ],
   "source": [
    "print(\"DecisionTreeClassifier score: \" , np.round(Logistic_Regression.score(x_train,y_train)*100))\n",
    "print(classification_report(y_train,y_pred))\n",
    "print(confusion_matrix(y_train,y_pred))"
   ]
  },
  {
   "cell_type": "markdown",
   "id": "aquatic-married",
   "metadata": {
    "id": "NLJ6d71ZflJz",
    "papermill": {
     "duration": 0.055402,
     "end_time": "2021-04-10T21:43:14.648265",
     "exception": false,
     "start_time": "2021-04-10T21:43:14.592863",
     "status": "completed"
    },
    "tags": []
   },
   "source": [
    "Now after we use some of ML algorithms we found the scores :\n",
    " \n",
    " 1. RandomForestClassifier score:  98.0\n",
    " 2. LogisticRegression score:  81.0\n",
    " 3. SGDClassifier score:  81.0\n",
    " 4. DecisionTreeClassifier score:  81.0\n",
    "\n",
    " As we see the best one was RandomForestCalssifier , so we are going to use it to predict **x_test** ."
   ]
  },
  {
   "cell_type": "code",
   "execution_count": 41,
   "id": "prime-software",
   "metadata": {
    "execution": {
     "iopub.execute_input": "2021-04-10T21:43:14.767390Z",
     "iopub.status.busy": "2021-04-10T21:43:14.766759Z",
     "iopub.status.idle": "2021-04-10T21:43:14.789037Z",
     "shell.execute_reply": "2021-04-10T21:43:14.788329Z"
    },
    "id": "_mMdiNPegQHv",
    "papermill": {
     "duration": 0.08524,
     "end_time": "2021-04-10T21:43:14.789184",
     "exception": false,
     "start_time": "2021-04-10T21:43:14.703944",
     "status": "completed"
    },
    "tags": []
   },
   "outputs": [],
   "source": [
    "y_pred = RandomForestClassifier.predict(x_test)"
   ]
  },
  {
   "cell_type": "code",
   "execution_count": 42,
   "id": "sought-profit",
   "metadata": {
    "execution": {
     "iopub.execute_input": "2021-04-10T21:43:14.906796Z",
     "iopub.status.busy": "2021-04-10T21:43:14.906116Z",
     "iopub.status.idle": "2021-04-10T21:43:14.912224Z",
     "shell.execute_reply": "2021-04-10T21:43:14.912690Z"
    },
    "id": "6B8UffEOghij",
    "papermill": {
     "duration": 0.068079,
     "end_time": "2021-04-10T21:43:14.912869",
     "exception": false,
     "start_time": "2021-04-10T21:43:14.844790",
     "status": "completed"
    },
    "tags": []
   },
   "outputs": [],
   "source": [
    "solution = pd.DataFrame({'PassengerId':IDs,'Survived':y_pred})\n",
    "solution = solution.to_csv('./Submission.csv',index=False)"
   ]
  },
  {
   "cell_type": "markdown",
   "id": "revised-chase",
   "metadata": {
    "id": "RcgDPOzlh1px",
    "papermill": {
     "duration": 0.055544,
     "end_time": "2021-04-10T21:43:15.024231",
     "exception": false,
     "start_time": "2021-04-10T21:43:14.968687",
     "status": "completed"
    },
    "tags": []
   },
   "source": [
    "In the end of this notebook , please if you saw any mistakes in my code leave a comment and tell me what is wrong and why .\n",
    "\n",
    "Or if you take some new knowlage also leave a comment and tell us what you learnt from this notebook.\n",
    "\n",
    "Thanks for your time at reading this notebook, \n",
    "\n",
    "all love ,\n",
    "\n",
    "Goodbye ."
   ]
  }
 ],
 "metadata": {
  "kernelspec": {
   "display_name": "Python 3",
   "language": "python",
   "name": "python3"
  },
  "language_info": {
   "codemirror_mode": {
    "name": "ipython",
    "version": 3
   },
   "file_extension": ".py",
   "mimetype": "text/x-python",
   "name": "python",
   "nbconvert_exporter": "python",
   "pygments_lexer": "ipython3",
   "version": "3.7.9"
  },
  "papermill": {
   "default_parameters": {},
   "duration": 18.454121,
   "end_time": "2021-04-10T21:43:15.790948",
   "environment_variables": {},
   "exception": null,
   "input_path": "__notebook__.ipynb",
   "output_path": "__notebook__.ipynb",
   "parameters": {},
   "start_time": "2021-04-10T21:42:57.336827",
   "version": "2.3.2"
  }
 },
 "nbformat": 4,
 "nbformat_minor": 5
}
